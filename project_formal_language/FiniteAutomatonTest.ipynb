{
 "cells": [
  {
   "cell_type": "code",
   "execution_count": 35,
   "id": "4a5f1f1a",
   "metadata": {},
   "outputs": [],
   "source": [
    "from Grammar.GrammarClass import Grammar\n",
    "from FiniteAutomaton.FiniteAutomatonClass import FiniteAutomaton"
   ]
  },
  {
   "cell_type": "code",
   "execution_count": 36,
   "id": "617806f2",
   "metadata": {},
   "outputs": [],
   "source": [
    "VN=['S', 'D', 'F']\n",
    "VT=['a', 'b', 'c', 'd']\n",
    "P={ 'S':['aS', 'bS', 'cD'], 'D':['dD', 'bF', 'a'], 'F':['bS', 'a'] }"
   ]
  },
  {
   "cell_type": "code",
   "execution_count": 37,
   "id": "7c1bf8e6",
   "metadata": {},
   "outputs": [],
   "source": [
    "# instantiate the grammar object\n",
    "grammar = Grammar(VN=VN, VT=VT, P=P, S='S')"
   ]
  },
  {
   "cell_type": "code",
   "execution_count": 38,
   "id": "f4dbad7a",
   "metadata": {},
   "outputs": [
    {
     "name": "stdout",
     "output_type": "stream",
     "text": [
      "aaaca\n",
      "bacbbaacdda\n",
      "abaabca\n",
      "aca\n",
      "acba\n"
     ]
    }
   ],
   "source": [
    "# generate 5 strings\n",
    "for i in range(5):\n",
    "    string = grammar.generate_string()\n",
    "    print(string)\n",
    "    grammar.delete_string()\n"
   ]
  },
  {
   "cell_type": "code",
   "execution_count": null,
   "id": "ed28bb9b",
   "metadata": {},
   "outputs": [],
   "source": []
  },
  {
   "cell_type": "code",
   "execution_count": 39,
   "id": "739464ac",
   "metadata": {},
   "outputs": [],
   "source": [
    "# convert to finite automaton\n",
    "fa = grammar.to_finite_automaton()"
   ]
  },
  {
   "cell_type": "markdown",
   "id": "ffa8745a",
   "metadata": {},
   "source": [
    "\n",
    "#### Check the finite automaton \n"
   ]
  },
  {
   "cell_type": "code",
   "execution_count": 40,
   "id": "e32356dd",
   "metadata": {},
   "outputs": [
    {
     "data": {
      "text/plain": [
       "False"
      ]
     },
     "execution_count": 40,
     "metadata": {},
     "output_type": "execute_result"
    }
   ],
   "source": [
    "fa.check_automaton('aaaabbbbcbda')"
   ]
  },
  {
   "cell_type": "code",
   "execution_count": 41,
   "id": "08ce8d65",
   "metadata": {},
   "outputs": [
    {
     "data": {
      "text/plain": [
       "True"
      ]
     },
     "execution_count": 41,
     "metadata": {},
     "output_type": "execute_result"
    }
   ],
   "source": [
    "fa.check_automaton('aaaabbbbcba')"
   ]
  },
  {
   "cell_type": "code",
   "execution_count": null,
   "id": "aae1ff9f",
   "metadata": {},
   "outputs": [],
   "source": []
  }
 ],
 "metadata": {
  "kernelspec": {
   "display_name": "Python 3 (ipykernel)",
   "language": "python",
   "name": "python3"
  },
  "language_info": {
   "codemirror_mode": {
    "name": "ipython",
    "version": 3
   },
   "file_extension": ".py",
   "mimetype": "text/x-python",
   "name": "python",
   "nbconvert_exporter": "python",
   "pygments_lexer": "ipython3",
   "version": "3.8.8"
  }
 },
 "nbformat": 4,
 "nbformat_minor": 5
}
