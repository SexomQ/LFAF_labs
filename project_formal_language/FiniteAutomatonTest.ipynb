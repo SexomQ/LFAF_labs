{
 "cells": [
  {
   "cell_type": "markdown",
   "id": "e67c07d9",
   "metadata": {},
   "source": [
    "### Lab 1"
   ]
  },
  {
   "cell_type": "code",
   "execution_count": 22,
   "id": "4a5f1f1a",
   "metadata": {},
   "outputs": [],
   "source": [
    "from Grammar.GrammarClass import Grammar\n",
    "from FiniteAutomaton.FiniteAutomatonClass import FiniteAutomaton\n",
    "from collections import deque\n",
    "from PySimpleAutomata import DFA, automata_IO"
   ]
  },
  {
   "cell_type": "code",
   "execution_count": 5,
   "id": "617806f2",
   "metadata": {},
   "outputs": [],
   "source": [
    "VN=['S', 'D', 'F']\n",
    "VT=['a', 'b', 'c', 'd']\n",
    "P={ 'S':['aS', 'bS', 'cD'], \n",
    "    'D':['dD', 'bF', 'a'], \n",
    "    'F':['bS', 'a'] }"
   ]
  },
  {
   "cell_type": "code",
   "execution_count": 6,
   "id": "7c1bf8e6",
   "metadata": {},
   "outputs": [],
   "source": [
    "# instantiate the grammar object\n",
    "grammar = Grammar(VN=VN, VT=VT, P=P, S='S')"
   ]
  },
  {
   "cell_type": "code",
   "execution_count": 7,
   "id": "f4dbad7a",
   "metadata": {},
   "outputs": [
    {
     "name": "stdout",
     "output_type": "stream",
     "text": [
      "abca\n",
      "bacba\n",
      "acbbbbcda\n",
      "acda\n",
      "bcda\n"
     ]
    }
   ],
   "source": [
    "# generate 5 strings\n",
    "for i in range(5):\n",
    "    string = grammar.generate_string()\n",
    "    print(string)\n",
    "    grammar.delete_string()\n"
   ]
  },
  {
   "cell_type": "code",
   "execution_count": null,
   "id": "ed28bb9b",
   "metadata": {},
   "outputs": [],
   "source": []
  },
  {
   "cell_type": "code",
   "execution_count": 5,
   "id": "739464ac",
   "metadata": {},
   "outputs": [],
   "source": [
    "# convert to finite automaton\n",
    "fa = grammar.to_finite_automaton()"
   ]
  },
  {
   "cell_type": "markdown",
   "id": "ffa8745a",
   "metadata": {},
   "source": [
    "\n",
    "#### Check the finite automaton \n"
   ]
  },
  {
   "cell_type": "code",
   "execution_count": 6,
   "id": "e32356dd",
   "metadata": {},
   "outputs": [
    {
     "data": {
      "text/plain": [
       "False"
      ]
     },
     "execution_count": 6,
     "metadata": {},
     "output_type": "execute_result"
    }
   ],
   "source": [
    "fa.check_automaton('aaaabbbbcbda')"
   ]
  },
  {
   "cell_type": "code",
   "execution_count": 7,
   "id": "08ce8d65",
   "metadata": {
    "scrolled": true
   },
   "outputs": [
    {
     "data": {
      "text/plain": [
       "True"
      ]
     },
     "execution_count": 7,
     "metadata": {},
     "output_type": "execute_result"
    }
   ],
   "source": [
    "fa.check_automaton('aaaabbbbcba')"
   ]
  },
  {
   "cell_type": "markdown",
   "id": "74840280",
   "metadata": {},
   "source": [
    "### Lab 2\n"
   ]
  },
  {
   "cell_type": "markdown",
   "id": "b7fa2d15",
   "metadata": {},
   "source": [
    "#### Check the grammar type"
   ]
  },
  {
   "cell_type": "code",
   "execution_count": 5,
   "id": "aae1ff9f",
   "metadata": {},
   "outputs": [
    {
     "name": "stdout",
     "output_type": "stream",
     "text": [
      "The grammar is type 3\n"
     ]
    }
   ],
   "source": [
    "grammar.check_grammar()"
   ]
  },
  {
   "cell_type": "markdown",
   "id": "ea664c65",
   "metadata": {},
   "source": [
    "#### Transform from finite automaton to grammar"
   ]
  },
  {
   "cell_type": "code",
   "execution_count": 8,
   "id": "b8b62e41",
   "metadata": {},
   "outputs": [],
   "source": [
    "states = [\"q0\",\"q1\",\"q2\"]\n",
    "alphabet = [\"a\",\"b\"]\n",
    "F = [\"q2\"]\n",
    "transitions = {\n",
    "    (\"q0\",\"a\", 1) : [\"q0\"],\n",
    "    (\"q1\",\"b\", 2) : [\"q1\"],\n",
    "    (\"q1\",\"b\", 3) : [\"q2\"],\n",
    "    (\"q0\",\"b\", 4) : [\"q1\"],\n",
    "    (\"q1\",\"a\", 5) : [\"q0\"],\n",
    "    (\"q2\",\"b\", 6) : [\"q1\"],\n",
    "}"
   ]
  },
  {
   "cell_type": "code",
   "execution_count": 9,
   "id": "be83fb48",
   "metadata": {},
   "outputs": [],
   "source": [
    "fa = FiniteAutomaton(Q=states, Sigma=alphabet, delta=transitions, q0=\"q0\", F=F)"
   ]
  },
  {
   "cell_type": "code",
   "execution_count": 10,
   "id": "8a3abec8",
   "metadata": {},
   "outputs": [],
   "source": [
    "VN, VT, P = fa.finite_automaton_to_regular_grammar()"
   ]
  },
  {
   "cell_type": "code",
   "execution_count": 11,
   "id": "f51567a6",
   "metadata": {},
   "outputs": [
    {
     "data": {
      "text/plain": [
       "(['q0', 'q1', 'q2'],\n",
       " ['a', 'b'],\n",
       " {'q0': ['aq0', 'bq1'], 'q1': ['bq1', 'bq2', 'aq0'], 'q2': ['bq1']})"
      ]
     },
     "execution_count": 11,
     "metadata": {},
     "output_type": "execute_result"
    }
   ],
   "source": [
    "VN, VT, P"
   ]
  },
  {
   "cell_type": "markdown",
   "id": "f20162ac",
   "metadata": {},
   "source": [
    "#### Check if the finite automaton is deterministic or non-deterministic"
   ]
  },
  {
   "cell_type": "code",
   "execution_count": 12,
   "id": "d700e299",
   "metadata": {},
   "outputs": [
    {
     "data": {
      "text/plain": [
       "False"
      ]
     },
     "execution_count": 12,
     "metadata": {},
     "output_type": "execute_result"
    }
   ],
   "source": [
    "fa.is_deterministic()"
   ]
  },
  {
   "cell_type": "markdown",
   "id": "25668b80",
   "metadata": {},
   "source": [
    "#### Transform from nfa to dfa"
   ]
  },
  {
   "cell_type": "code",
   "execution_count": 15,
   "id": "3c7d5821",
   "metadata": {},
   "outputs": [
    {
     "data": {
      "text/plain": [
       "{(('q0',), 'a'): ('q0',),\n",
       " (('q0',), 'b'): ('q1',),\n",
       " (('q1',), 'a'): ('q0',),\n",
       " (('q1',), 'b'): ('q2', 'q1'),\n",
       " (('q2', 'q1'), 'a'): ('q0',),\n",
       " (('q2', 'q1'), 'b'): ('q2', 'q1')}"
      ]
     },
     "execution_count": 15,
     "metadata": {},
     "output_type": "execute_result"
    }
   ],
   "source": [
    "dfa_states, alphabet, dfa_transitions, dfa_final_states = fa.nfa_to_dfa()\n",
    "dfa_transitions"
   ]
  },
  {
   "cell_type": "markdown",
   "id": "837a89aa",
   "metadata": {},
   "source": [
    "#### Draw the fa"
   ]
  },
  {
   "cell_type": "code",
   "execution_count": 27,
   "id": "673f5372",
   "metadata": {},
   "outputs": [],
   "source": [
    "# from automathon import DFA\n",
    "# Q = {'q0', 'q1', 'q2'}\n",
    "# sigma = {'0', '1'}\n",
    "# delta = { 'q0' : {'0' : 'q0', '1' : 'q1'},\n",
    "#           'q1' : {'0' : 'q2', '1' : 'q0'},\n",
    "#           'q2' : {'0' : 'q1', '1' : 'q2'}\n",
    "#         }\n",
    "# initialState = 'q0'\n",
    "# F = {'q0'}\n",
    "\n",
    "# automata1 = DFA(Q, sigma, delta, initialState, F)\n",
    "## This is an example about creating a DFA with the library"
   ]
  },
  {
   "cell_type": "code",
   "execution_count": 28,
   "id": "ae7b5887",
   "metadata": {},
   "outputs": [
    {
     "ename": "ExecutableNotFound",
     "evalue": "failed to execute WindowsPath('dot'), make sure the Graphviz executables are on your systems' PATH",
     "output_type": "error",
     "traceback": [
      "\u001b[1;31m---------------------------------------------------------------------------\u001b[0m",
      "\u001b[1;31mFileNotFoundError\u001b[0m                         Traceback (most recent call last)",
      "\u001b[1;32mC:\\Users\\Salut\\lib\\site-packages\\graphviz\\backend\\execute.py\u001b[0m in \u001b[0;36mrun_check\u001b[1;34m(cmd, input_lines, encoding, capture_output, quiet, **kwargs)\u001b[0m\n",
      "\u001b[1;32mC:\\Users\\Salut\\lib\\subprocess.py\u001b[0m in \u001b[0;36mrun\u001b[1;34m(input, capture_output, timeout, check, *popenargs, **kwargs)\u001b[0m\n\u001b[0;32m    492\u001b[0m \u001b[1;33m\u001b[0m\u001b[0m\n\u001b[1;32m--> 493\u001b[1;33m     \u001b[1;32mwith\u001b[0m \u001b[0mPopen\u001b[0m\u001b[1;33m(\u001b[0m\u001b[1;33m*\u001b[0m\u001b[0mpopenargs\u001b[0m\u001b[1;33m,\u001b[0m \u001b[1;33m**\u001b[0m\u001b[0mkwargs\u001b[0m\u001b[1;33m)\u001b[0m \u001b[1;32mas\u001b[0m \u001b[0mprocess\u001b[0m\u001b[1;33m:\u001b[0m\u001b[1;33m\u001b[0m\u001b[1;33m\u001b[0m\u001b[0m\n\u001b[0m\u001b[0;32m    494\u001b[0m         \u001b[1;32mtry\u001b[0m\u001b[1;33m:\u001b[0m\u001b[1;33m\u001b[0m\u001b[1;33m\u001b[0m\u001b[0m\n",
      "\u001b[1;32mC:\\Users\\Salut\\lib\\subprocess.py\u001b[0m in \u001b[0;36m__init__\u001b[1;34m(self, args, bufsize, executable, stdin, stdout, stderr, preexec_fn, close_fds, shell, cwd, env, universal_newlines, startupinfo, creationflags, restore_signals, start_new_session, pass_fds, encoding, errors, text)\u001b[0m\n\u001b[0;32m    857\u001b[0m \u001b[1;33m\u001b[0m\u001b[0m\n\u001b[1;32m--> 858\u001b[1;33m             self._execute_child(args, executable, preexec_fn, close_fds,\n\u001b[0m\u001b[0;32m    859\u001b[0m                                 \u001b[0mpass_fds\u001b[0m\u001b[1;33m,\u001b[0m \u001b[0mcwd\u001b[0m\u001b[1;33m,\u001b[0m \u001b[0menv\u001b[0m\u001b[1;33m,\u001b[0m\u001b[1;33m\u001b[0m\u001b[1;33m\u001b[0m\u001b[0m\n",
      "\u001b[1;32mC:\\Users\\Salut\\lib\\subprocess.py\u001b[0m in \u001b[0;36m_execute_child\u001b[1;34m(self, args, executable, preexec_fn, close_fds, pass_fds, cwd, env, startupinfo, creationflags, shell, p2cread, p2cwrite, c2pread, c2pwrite, errread, errwrite, unused_restore_signals, unused_start_new_session)\u001b[0m\n\u001b[0;32m   1310\u001b[0m             \u001b[1;32mtry\u001b[0m\u001b[1;33m:\u001b[0m\u001b[1;33m\u001b[0m\u001b[1;33m\u001b[0m\u001b[0m\n\u001b[1;32m-> 1311\u001b[1;33m                 hp, ht, pid, tid = _winapi.CreateProcess(executable, args,\n\u001b[0m\u001b[0;32m   1312\u001b[0m                                          \u001b[1;31m# no special security\u001b[0m\u001b[1;33m\u001b[0m\u001b[1;33m\u001b[0m\u001b[1;33m\u001b[0m\u001b[0m\n",
      "\u001b[1;31mFileNotFoundError\u001b[0m: [WinError 2] The system cannot find the file specified",
      "\nThe above exception was the direct cause of the following exception:\n",
      "\u001b[1;31mExecutableNotFound\u001b[0m                        Traceback (most recent call last)",
      "\u001b[1;32m~\\AppData\\Local\\Temp\\ipykernel_2336\\4131926118.py\u001b[0m in \u001b[0;36m<module>\u001b[1;34m\u001b[0m\n\u001b[1;32m----> 1\u001b[1;33m \u001b[0mautomata1\u001b[0m\u001b[1;33m.\u001b[0m\u001b[0mview\u001b[0m\u001b[1;33m(\u001b[0m\u001b[1;34m\"DFA Visualization\"\u001b[0m\u001b[1;33m)\u001b[0m\u001b[1;33m\u001b[0m\u001b[1;33m\u001b[0m\u001b[0m\n\u001b[0m",
      "\u001b[1;32mC:\\Users\\Salut\\lib\\site-packages\\automathon\\finiteAutomata\\dfa.py\u001b[0m in \u001b[0;36mview\u001b[1;34m(self, fileName)\u001b[0m\n\u001b[0;32m    238\u001b[0m         \u001b[0mdot\u001b[0m\u001b[1;33m.\u001b[0m\u001b[0medge\u001b[0m\u001b[1;33m(\u001b[0m\u001b[0mq\u001b[0m\u001b[1;33m,\u001b[0m \u001b[0mself\u001b[0m\u001b[1;33m.\u001b[0m\u001b[0mdelta\u001b[0m\u001b[1;33m[\u001b[0m\u001b[0mq\u001b[0m\u001b[1;33m]\u001b[0m\u001b[1;33m[\u001b[0m\u001b[0ms\u001b[0m\u001b[1;33m]\u001b[0m\u001b[1;33m,\u001b[0m \u001b[0mlabel\u001b[0m\u001b[1;33m=\u001b[0m\u001b[0ms\u001b[0m\u001b[1;33m)\u001b[0m\u001b[1;33m\u001b[0m\u001b[1;33m\u001b[0m\u001b[0m\n\u001b[0;32m    239\u001b[0m \u001b[1;33m\u001b[0m\u001b[0m\n\u001b[1;32m--> 240\u001b[1;33m     \u001b[0mdot\u001b[0m\u001b[1;33m.\u001b[0m\u001b[0mrender\u001b[0m\u001b[1;33m(\u001b[0m\u001b[1;33m)\u001b[0m\u001b[1;33m\u001b[0m\u001b[1;33m\u001b[0m\u001b[0m\n\u001b[0m",
      "\u001b[1;32mC:\\Users\\Salut\\lib\\site-packages\\graphviz\\_tools.py\u001b[0m in \u001b[0;36mwrapper\u001b[1;34m(*args, **kwargs)\u001b[0m\n",
      "\u001b[1;32mC:\\Users\\Salut\\lib\\site-packages\\graphviz\\rendering.py\u001b[0m in \u001b[0;36mrender\u001b[1;34m(self, filename, directory, view, cleanup, format, renderer, formatter, quiet, quiet_view, outfile, engine, raise_if_result_exists, overwrite_source)\u001b[0m\n",
      "\u001b[1;32mC:\\Users\\Salut\\lib\\site-packages\\graphviz\\_tools.py\u001b[0m in \u001b[0;36mwrapper\u001b[1;34m(*args, **kwargs)\u001b[0m\n",
      "\u001b[1;32mC:\\Users\\Salut\\lib\\site-packages\\graphviz\\backend\\rendering.py\u001b[0m in \u001b[0;36mrender\u001b[1;34m(engine, format, filepath, renderer, formatter, quiet, outfile, raise_if_result_exists, overwrite_filepath)\u001b[0m\n",
      "\u001b[1;32mC:\\Users\\Salut\\lib\\site-packages\\graphviz\\backend\\execute.py\u001b[0m in \u001b[0;36mrun_check\u001b[1;34m(cmd, input_lines, encoding, capture_output, quiet, **kwargs)\u001b[0m\n",
      "\u001b[1;31mExecutableNotFound\u001b[0m: failed to execute WindowsPath('dot'), make sure the Graphviz executables are on your systems' PATH"
     ]
    }
   ],
   "source": [
    "# automata1.view(\"DFA Visualization\")"
   ]
  },
  {
   "cell_type": "code",
   "execution_count": null,
   "id": "cb7b1300",
   "metadata": {},
   "outputs": [],
   "source": []
  },
  {
   "cell_type": "code",
   "execution_count": null,
   "id": "25f32691",
   "metadata": {},
   "outputs": [],
   "source": []
  },
  {
   "cell_type": "code",
   "execution_count": null,
   "id": "3491f431",
   "metadata": {},
   "outputs": [],
   "source": []
  },
  {
   "cell_type": "code",
   "execution_count": null,
   "id": "1c8a715a",
   "metadata": {},
   "outputs": [],
   "source": []
  }
 ],
 "metadata": {
  "kernelspec": {
   "display_name": "Python 3 (ipykernel)",
   "language": "python",
   "name": "python3"
  },
  "language_info": {
   "codemirror_mode": {
    "name": "ipython",
    "version": 3
   },
   "file_extension": ".py",
   "mimetype": "text/x-python",
   "name": "python",
   "nbconvert_exporter": "python",
   "pygments_lexer": "ipython3",
   "version": "3.8.8"
  }
 },
 "nbformat": 4,
 "nbformat_minor": 5
}
