{
 "cells": [
  {
   "cell_type": "markdown",
   "id": "e67c07d9",
   "metadata": {},
   "source": [
    "### Lab 1"
   ]
  },
  {
   "cell_type": "code",
   "execution_count": 1,
   "id": "4a5f1f1a",
   "metadata": {},
   "outputs": [],
   "source": [
    "from Grammar.GrammarClass import Grammar\n",
    "from FiniteAutomaton.FiniteAutomatonClass import FiniteAutomaton\n",
    "from Lexer.LexerClass import *\n",
    "from ChomskyForm.ChomskyClass import Chomsky\n",
    "from Parser.ParserClass import Parser\n",
    "from collections import deque\n",
    "\n",
    "from PySimpleAutomata import DFA, automata_IO"
   ]
  },
  {
   "cell_type": "code",
   "execution_count": 11,
   "id": "617806f2",
   "metadata": {},
   "outputs": [],
   "source": [
    "VN=['S', 'D', 'F']\n",
    "VT=['a', 'b', 'c', 'd']\n",
    "P={ 'S':['aS', 'bS', 'cD'], \n",
    "    'D':['dD', 'bF', 'a'], \n",
    "    'F':['bS', 'a'] }"
   ]
  },
  {
   "cell_type": "code",
   "execution_count": 12,
   "id": "7c1bf8e6",
   "metadata": {},
   "outputs": [],
   "source": [
    "# instantiate the grammar object\n",
    "grammar = Grammar(VN=VN, VT=VT, P=P, S='S')"
   ]
  },
  {
   "cell_type": "code",
   "execution_count": 13,
   "id": "f4dbad7a",
   "metadata": {},
   "outputs": [
    {
     "name": "stdout",
     "output_type": "stream",
     "text": [
      "cba\n",
      "acda\n",
      "abbbaca\n",
      "cba\n",
      "baacbbababcdba\n"
     ]
    }
   ],
   "source": [
    "# generate 5 strings\n",
    "for i in range(5):\n",
    "    string = grammar.generate_string()\n",
    "    print(string)\n",
    "    grammar.delete_string()\n"
   ]
  },
  {
   "cell_type": "code",
   "execution_count": null,
   "id": "ed28bb9b",
   "metadata": {},
   "outputs": [],
   "source": []
  },
  {
   "cell_type": "code",
   "execution_count": 14,
   "id": "739464ac",
   "metadata": {},
   "outputs": [],
   "source": [
    "# convert to finite automaton\n",
    "fa = grammar.to_finite_automaton()"
   ]
  },
  {
   "cell_type": "markdown",
   "id": "ffa8745a",
   "metadata": {},
   "source": [
    "\n",
    "#### Check the finite automaton \n"
   ]
  },
  {
   "cell_type": "code",
   "execution_count": 15,
   "id": "e32356dd",
   "metadata": {},
   "outputs": [
    {
     "data": {
      "text/plain": [
       "False"
      ]
     },
     "execution_count": 15,
     "metadata": {},
     "output_type": "execute_result"
    }
   ],
   "source": [
    "fa.check_automaton('aaaabbbbcbda')"
   ]
  },
  {
   "cell_type": "code",
   "execution_count": 16,
   "id": "08ce8d65",
   "metadata": {
    "scrolled": true
   },
   "outputs": [
    {
     "data": {
      "text/plain": [
       "True"
      ]
     },
     "execution_count": 16,
     "metadata": {},
     "output_type": "execute_result"
    }
   ],
   "source": [
    "fa.check_automaton('aaaabbbbcba')"
   ]
  },
  {
   "cell_type": "markdown",
   "id": "74840280",
   "metadata": {},
   "source": [
    "### Lab 2\n"
   ]
  },
  {
   "cell_type": "markdown",
   "id": "b7fa2d15",
   "metadata": {},
   "source": [
    "#### Check the grammar type"
   ]
  },
  {
   "cell_type": "code",
   "execution_count": 17,
   "id": "aae1ff9f",
   "metadata": {},
   "outputs": [
    {
     "name": "stdout",
     "output_type": "stream",
     "text": [
      "The grammar is type 3\n"
     ]
    }
   ],
   "source": [
    "grammar.check_grammar()"
   ]
  },
  {
   "cell_type": "markdown",
   "id": "ea664c65",
   "metadata": {},
   "source": [
    "#### Transform from finite automaton to grammar"
   ]
  },
  {
   "cell_type": "code",
   "execution_count": 18,
   "id": "b8b62e41",
   "metadata": {},
   "outputs": [],
   "source": [
    "states = [\"q0\",\"q1\",\"q2\"]\n",
    "alphabet = [\"a\",\"b\"]\n",
    "F = [\"q2\"]\n",
    "transitions = {\n",
    "    (\"q0\",\"a\", 1) : [\"q0\"],\n",
    "    (\"q1\",\"b\", 2) : [\"q1\"],\n",
    "    (\"q1\",\"b\", 3) : [\"q2\"],\n",
    "    (\"q0\",\"b\", 4) : [\"q1\"],\n",
    "    (\"q1\",\"a\", 5) : [\"q0\"],\n",
    "    (\"q2\",\"b\", 6) : [\"q1\"],\n",
    "}"
   ]
  },
  {
   "cell_type": "code",
   "execution_count": 19,
   "id": "be83fb48",
   "metadata": {},
   "outputs": [],
   "source": [
    "fa = FiniteAutomaton(Q=states, Sigma=alphabet, delta=transitions, q0=\"q0\", F=F)"
   ]
  },
  {
   "cell_type": "code",
   "execution_count": 20,
   "id": "8a3abec8",
   "metadata": {},
   "outputs": [],
   "source": [
    "VN, VT, P = fa.finite_automaton_to_regular_grammar()"
   ]
  },
  {
   "cell_type": "code",
   "execution_count": 21,
   "id": "f51567a6",
   "metadata": {},
   "outputs": [
    {
     "data": {
      "text/plain": [
       "(['q0', 'q1', 'q2'],\n",
       " ['a', 'b'],\n",
       " {'q0': ['aq0', 'bq1'], 'q1': ['bq1', 'bq2', 'aq0'], 'q2': ['bq1']})"
      ]
     },
     "execution_count": 21,
     "metadata": {},
     "output_type": "execute_result"
    }
   ],
   "source": [
    "VN, VT, P"
   ]
  },
  {
   "cell_type": "markdown",
   "id": "f20162ac",
   "metadata": {},
   "source": [
    "#### Check if the finite automaton is deterministic or non-deterministic"
   ]
  },
  {
   "cell_type": "code",
   "execution_count": 22,
   "id": "d700e299",
   "metadata": {},
   "outputs": [
    {
     "data": {
      "text/plain": [
       "False"
      ]
     },
     "execution_count": 22,
     "metadata": {},
     "output_type": "execute_result"
    }
   ],
   "source": [
    "fa.is_deterministic()"
   ]
  },
  {
   "cell_type": "markdown",
   "id": "25668b80",
   "metadata": {},
   "source": [
    "#### Transform from nfa to dfa"
   ]
  },
  {
   "cell_type": "code",
   "execution_count": 23,
   "id": "3c7d5821",
   "metadata": {},
   "outputs": [
    {
     "name": "stdout",
     "output_type": "stream",
     "text": [
      "{'q0', 'q1q2', 'q1'}\n",
      "{'b', 'a'}\n",
      "{'q1q2'}\n"
     ]
    },
    {
     "data": {
      "text/plain": [
       "{'q0': {'a': 'q0', 'b': 'q1'},\n",
       " 'q1': {'b': 'q1q2', 'a': 'q0'},\n",
       " 'q1q2': {'b': 'q1q2', 'a': 'q0'}}"
      ]
     },
     "execution_count": 23,
     "metadata": {},
     "output_type": "execute_result"
    }
   ],
   "source": [
    "dfa_states, alphabet, dfa_transitions, dfa_final_states = fa.nfa_to_dfa()\n",
    "print(dfa_states)\n",
    "print(alphabet)\n",
    "print(dfa_final_states)\n",
    "dfa_transitions"
   ]
  },
  {
   "cell_type": "markdown",
   "id": "837a89aa",
   "metadata": {},
   "source": [
    "#### Draw the fa"
   ]
  },
  {
   "cell_type": "code",
   "execution_count": 24,
   "id": "673f5372",
   "metadata": {},
   "outputs": [],
   "source": [
    "from automathon import DFA\n",
    "\n",
    "automata1 = DFA(dfa_states, alphabet, dfa_transitions, \"q0\", dfa_final_states)\n",
    "# This is an example about creating a DFA with the library"
   ]
  },
  {
   "cell_type": "code",
   "execution_count": 25,
   "id": "09d381a8",
   "metadata": {},
   "outputs": [
    {
     "data": {
      "text/plain": [
       "True"
      ]
     },
     "execution_count": 25,
     "metadata": {},
     "output_type": "execute_result"
    }
   ],
   "source": [
    "automata1.isValid()"
   ]
  },
  {
   "cell_type": "code",
   "execution_count": 26,
   "id": "ae7b5887",
   "metadata": {},
   "outputs": [
    {
     "ename": "ExecutableNotFound",
     "evalue": "failed to execute ['dot', '-Kdot', '-Tpng', '-O', 'DFA Visualization2.gv'], make sure the Graphviz executables are on your systems' PATH",
     "output_type": "error",
     "traceback": [
      "\u001b[1;31m---------------------------------------------------------------------------\u001b[0m",
      "\u001b[1;31mFileNotFoundError\u001b[0m                         Traceback (most recent call last)",
      "\u001b[1;32mc:\\Users\\Salut\\lib\\site-packages\\graphviz\\backend.py\u001b[0m in \u001b[0;36mrun\u001b[1;34m(cmd, input, capture_output, check, encoding, quiet, **kwargs)\u001b[0m\n\u001b[0;32m    163\u001b[0m     \u001b[1;32mtry\u001b[0m\u001b[1;33m:\u001b[0m\u001b[1;33m\u001b[0m\u001b[1;33m\u001b[0m\u001b[0m\n\u001b[1;32m--> 164\u001b[1;33m         \u001b[0mproc\u001b[0m \u001b[1;33m=\u001b[0m \u001b[0msubprocess\u001b[0m\u001b[1;33m.\u001b[0m\u001b[0mPopen\u001b[0m\u001b[1;33m(\u001b[0m\u001b[0mcmd\u001b[0m\u001b[1;33m,\u001b[0m \u001b[0mstartupinfo\u001b[0m\u001b[1;33m=\u001b[0m\u001b[0mget_startupinfo\u001b[0m\u001b[1;33m(\u001b[0m\u001b[1;33m)\u001b[0m\u001b[1;33m,\u001b[0m \u001b[1;33m**\u001b[0m\u001b[0mkwargs\u001b[0m\u001b[1;33m)\u001b[0m\u001b[1;33m\u001b[0m\u001b[1;33m\u001b[0m\u001b[0m\n\u001b[0m\u001b[0;32m    165\u001b[0m     \u001b[1;32mexcept\u001b[0m \u001b[0mOSError\u001b[0m \u001b[1;32mas\u001b[0m \u001b[0me\u001b[0m\u001b[1;33m:\u001b[0m\u001b[1;33m\u001b[0m\u001b[1;33m\u001b[0m\u001b[0m\n",
      "\u001b[1;32mc:\\Users\\Salut\\lib\\subprocess.py\u001b[0m in \u001b[0;36m__init__\u001b[1;34m(self, args, bufsize, executable, stdin, stdout, stderr, preexec_fn, close_fds, shell, cwd, env, universal_newlines, startupinfo, creationflags, restore_signals, start_new_session, pass_fds, encoding, errors, text)\u001b[0m\n\u001b[0;32m    857\u001b[0m \u001b[1;33m\u001b[0m\u001b[0m\n\u001b[1;32m--> 858\u001b[1;33m             self._execute_child(args, executable, preexec_fn, close_fds,\n\u001b[0m\u001b[0;32m    859\u001b[0m                                 \u001b[0mpass_fds\u001b[0m\u001b[1;33m,\u001b[0m \u001b[0mcwd\u001b[0m\u001b[1;33m,\u001b[0m \u001b[0menv\u001b[0m\u001b[1;33m,\u001b[0m\u001b[1;33m\u001b[0m\u001b[1;33m\u001b[0m\u001b[0m\n",
      "\u001b[1;32mc:\\Users\\Salut\\lib\\subprocess.py\u001b[0m in \u001b[0;36m_execute_child\u001b[1;34m(self, args, executable, preexec_fn, close_fds, pass_fds, cwd, env, startupinfo, creationflags, shell, p2cread, p2cwrite, c2pread, c2pwrite, errread, errwrite, unused_restore_signals, unused_start_new_session)\u001b[0m\n\u001b[0;32m   1310\u001b[0m             \u001b[1;32mtry\u001b[0m\u001b[1;33m:\u001b[0m\u001b[1;33m\u001b[0m\u001b[1;33m\u001b[0m\u001b[0m\n\u001b[1;32m-> 1311\u001b[1;33m                 hp, ht, pid, tid = _winapi.CreateProcess(executable, args,\n\u001b[0m\u001b[0;32m   1312\u001b[0m                                          \u001b[1;31m# no special security\u001b[0m\u001b[1;33m\u001b[0m\u001b[1;33m\u001b[0m\u001b[1;33m\u001b[0m\u001b[0m\n",
      "\u001b[1;31mFileNotFoundError\u001b[0m: [WinError 2] The system cannot find the file specified",
      "\nDuring handling of the above exception, another exception occurred:\n",
      "\u001b[1;31mExecutableNotFound\u001b[0m                        Traceback (most recent call last)",
      "\u001b[1;32m~\\AppData\\Local\\Temp\\ipykernel_15000\\1686923549.py\u001b[0m in \u001b[0;36m<module>\u001b[1;34m\u001b[0m\n\u001b[1;32m----> 1\u001b[1;33m \u001b[0mautomata1\u001b[0m\u001b[1;33m.\u001b[0m\u001b[0mview\u001b[0m\u001b[1;33m(\u001b[0m\u001b[1;34m\"DFA Visualization2\"\u001b[0m\u001b[1;33m)\u001b[0m\u001b[1;33m\u001b[0m\u001b[1;33m\u001b[0m\u001b[0m\n\u001b[0m",
      "\u001b[1;32mc:\\Users\\Salut\\lib\\site-packages\\automathon\\finiteAutomata\\dfa.py\u001b[0m in \u001b[0;36mview\u001b[1;34m(self, fileName)\u001b[0m\n\u001b[0;32m    238\u001b[0m         \u001b[0mdot\u001b[0m\u001b[1;33m.\u001b[0m\u001b[0medge\u001b[0m\u001b[1;33m(\u001b[0m\u001b[0mq\u001b[0m\u001b[1;33m,\u001b[0m \u001b[0mself\u001b[0m\u001b[1;33m.\u001b[0m\u001b[0mdelta\u001b[0m\u001b[1;33m[\u001b[0m\u001b[0mq\u001b[0m\u001b[1;33m]\u001b[0m\u001b[1;33m[\u001b[0m\u001b[0ms\u001b[0m\u001b[1;33m]\u001b[0m\u001b[1;33m,\u001b[0m \u001b[0mlabel\u001b[0m\u001b[1;33m=\u001b[0m\u001b[0ms\u001b[0m\u001b[1;33m)\u001b[0m\u001b[1;33m\u001b[0m\u001b[1;33m\u001b[0m\u001b[0m\n\u001b[0;32m    239\u001b[0m \u001b[1;33m\u001b[0m\u001b[0m\n\u001b[1;32m--> 240\u001b[1;33m     \u001b[0mdot\u001b[0m\u001b[1;33m.\u001b[0m\u001b[0mrender\u001b[0m\u001b[1;33m(\u001b[0m\u001b[1;33m)\u001b[0m\u001b[1;33m\u001b[0m\u001b[1;33m\u001b[0m\u001b[0m\n\u001b[0m",
      "\u001b[1;32mc:\\Users\\Salut\\lib\\site-packages\\graphviz\\files.py\u001b[0m in \u001b[0;36mrender\u001b[1;34m(self, filename, directory, view, cleanup, format, renderer, formatter, quiet, quiet_view)\u001b[0m\n\u001b[0;32m    241\u001b[0m             \u001b[0mformat\u001b[0m \u001b[1;33m=\u001b[0m \u001b[0mself\u001b[0m\u001b[1;33m.\u001b[0m\u001b[0m_format\u001b[0m\u001b[1;33m\u001b[0m\u001b[1;33m\u001b[0m\u001b[0m\n\u001b[0;32m    242\u001b[0m \u001b[1;33m\u001b[0m\u001b[0m\n\u001b[1;32m--> 243\u001b[1;33m         rendered = backend.render(self._engine, format, filepath,\n\u001b[0m\u001b[0;32m    244\u001b[0m                                   \u001b[0mrenderer\u001b[0m\u001b[1;33m=\u001b[0m\u001b[0mrenderer\u001b[0m\u001b[1;33m,\u001b[0m \u001b[0mformatter\u001b[0m\u001b[1;33m=\u001b[0m\u001b[0mformatter\u001b[0m\u001b[1;33m,\u001b[0m\u001b[1;33m\u001b[0m\u001b[1;33m\u001b[0m\u001b[0m\n\u001b[0;32m    245\u001b[0m                                   quiet=quiet)\n",
      "\u001b[1;32mc:\\Users\\Salut\\lib\\site-packages\\graphviz\\backend.py\u001b[0m in \u001b[0;36mrender\u001b[1;34m(***failed resolving arguments***)\u001b[0m\n\u001b[0;32m    221\u001b[0m         \u001b[0mcwd\u001b[0m \u001b[1;33m=\u001b[0m \u001b[1;32mNone\u001b[0m\u001b[1;33m\u001b[0m\u001b[1;33m\u001b[0m\u001b[0m\n\u001b[0;32m    222\u001b[0m \u001b[1;33m\u001b[0m\u001b[0m\n\u001b[1;32m--> 223\u001b[1;33m     \u001b[0mrun\u001b[0m\u001b[1;33m(\u001b[0m\u001b[0mcmd\u001b[0m\u001b[1;33m,\u001b[0m \u001b[0mcapture_output\u001b[0m\u001b[1;33m=\u001b[0m\u001b[1;32mTrue\u001b[0m\u001b[1;33m,\u001b[0m \u001b[0mcwd\u001b[0m\u001b[1;33m=\u001b[0m\u001b[0mcwd\u001b[0m\u001b[1;33m,\u001b[0m \u001b[0mcheck\u001b[0m\u001b[1;33m=\u001b[0m\u001b[1;32mTrue\u001b[0m\u001b[1;33m,\u001b[0m \u001b[0mquiet\u001b[0m\u001b[1;33m=\u001b[0m\u001b[0mquiet\u001b[0m\u001b[1;33m)\u001b[0m\u001b[1;33m\u001b[0m\u001b[1;33m\u001b[0m\u001b[0m\n\u001b[0m\u001b[0;32m    224\u001b[0m     \u001b[1;32mreturn\u001b[0m \u001b[0mrendered\u001b[0m\u001b[1;33m\u001b[0m\u001b[1;33m\u001b[0m\u001b[0m\n\u001b[0;32m    225\u001b[0m \u001b[1;33m\u001b[0m\u001b[0m\n",
      "\u001b[1;32mc:\\Users\\Salut\\lib\\site-packages\\graphviz\\backend.py\u001b[0m in \u001b[0;36mrun\u001b[1;34m(cmd, input, capture_output, check, encoding, quiet, **kwargs)\u001b[0m\n\u001b[0;32m    165\u001b[0m     \u001b[1;32mexcept\u001b[0m \u001b[0mOSError\u001b[0m \u001b[1;32mas\u001b[0m \u001b[0me\u001b[0m\u001b[1;33m:\u001b[0m\u001b[1;33m\u001b[0m\u001b[1;33m\u001b[0m\u001b[0m\n\u001b[0;32m    166\u001b[0m         \u001b[1;32mif\u001b[0m \u001b[0me\u001b[0m\u001b[1;33m.\u001b[0m\u001b[0merrno\u001b[0m \u001b[1;33m==\u001b[0m \u001b[0merrno\u001b[0m\u001b[1;33m.\u001b[0m\u001b[0mENOENT\u001b[0m\u001b[1;33m:\u001b[0m\u001b[1;33m\u001b[0m\u001b[1;33m\u001b[0m\u001b[0m\n\u001b[1;32m--> 167\u001b[1;33m             \u001b[1;32mraise\u001b[0m \u001b[0mExecutableNotFound\u001b[0m\u001b[1;33m(\u001b[0m\u001b[0mcmd\u001b[0m\u001b[1;33m)\u001b[0m\u001b[1;33m\u001b[0m\u001b[1;33m\u001b[0m\u001b[0m\n\u001b[0m\u001b[0;32m    168\u001b[0m         \u001b[1;32melse\u001b[0m\u001b[1;33m:\u001b[0m\u001b[1;33m\u001b[0m\u001b[1;33m\u001b[0m\u001b[0m\n\u001b[0;32m    169\u001b[0m             \u001b[1;32mraise\u001b[0m\u001b[1;33m\u001b[0m\u001b[1;33m\u001b[0m\u001b[0m\n",
      "\u001b[1;31mExecutableNotFound\u001b[0m: failed to execute ['dot', '-Kdot', '-Tpng', '-O', 'DFA Visualization2.gv'], make sure the Graphviz executables are on your systems' PATH"
     ]
    }
   ],
   "source": [
    "automata1.view(\"DFA Visualization2\")"
   ]
  },
  {
   "cell_type": "code",
   "execution_count": null,
   "id": "cb7b1300",
   "metadata": {},
   "outputs": [
    {
     "data": {
      "image/png": "[encoded data removed]",
      "text/plain": [
       "<PIL.PngImagePlugin.PngImageFile image mode=RGB size=445x163>"
      ]
     },
     "execution_count": 19,
     "metadata": {},
     "output_type": "execute_result"
    }
   ],
   "source": [
    "from PIL import Image\n",
    "\n",
    "im = Image.open(\"DFA Visualization2.gv.png\")\n",
    "\n",
    "im"
   ]
  },
  {
   "cell_type": "markdown",
   "id": "8e70e795",
   "metadata": {},
   "source": [
    "## Lab 3"
   ]
  },
  {
   "cell_type": "markdown",
   "id": "0f5296a5",
   "metadata": {},
   "source": [
    "#### Lexer"
   ]
  },
  {
   "cell_type": "code",
   "execution_count": 10,
   "id": "11df436a",
   "metadata": {
    "scrolled": true
   },
   "outputs": [
    {
     "name": "stdout",
     "output_type": "stream",
     "text": [
      "Token(type=SELECT, value='SELECT', line=1, column=0)\n",
      "Token(type=ID, value='col1', line=1, column=7)\n",
      "Token(type=COMMA, value=',', line=1, column=11)\n",
      "Token(type=ID, value='col2', line=1, column=13)\n",
      "Token(type=COMMA, value=',', line=1, column=17)\n",
      "Token(type=ID, value='col3', line=1, column=19)\n",
      "Token(type=FROM, value='FROM', line=1, column=24)\n",
      "Token(type=ID, value='table1', line=1, column=29)\n",
      "Token(type=WHERE, value='WHERE', line=1, column=36)\n",
      "Token(type=ID, value='col1', line=1, column=42)\n",
      "Token(type=COMPARATOR, value='>=', line=1, column=47)\n",
      "Token(type=NUMBER, value='30', line=1, column=50)\n"
     ]
    }
   ],
   "source": [
    "code_test = '''SELECT col1, col2, col3 FROM table1 WHERE col1 >= 30'''\n",
    "\n",
    "lexer = Lexer(code_test)\n",
    "tokens = lexer.tokenize()\n",
    "for token in tokens:\n",
    "    print(token.print_token()) "
   ]
  },
  {
   "cell_type": "markdown",
   "id": "ba71e8ed",
   "metadata": {},
   "source": [
    "## Lab 4"
   ]
  },
  {
   "cell_type": "markdown",
   "id": "3f264302",
   "metadata": {},
   "source": [
    "### Chomsky Normal Form"
   ]
  },
  {
   "cell_type": "code",
   "execution_count": null,
   "id": "62497d83",
   "metadata": {},
   "outputs": [],
   "source": [
    "VN = ['S', 'A', 'B', 'C', 'E']\n",
    "VT = ['a', 'b']\n",
    "P = {'S': ['aB', 'AC', 'A'], \n",
    "     'A': ['a', 'ACSC', 'BC', 'ASC', 'ACS', 'B', 'AS'], \n",
    "     'B': ['b', 'aA'], \n",
    "     'C': ['', 'BA'], \n",
    "     'E': ['bB']}"
   ]
  },
  {
   "cell_type": "code",
   "execution_count": null,
   "id": "d8873b90",
   "metadata": {},
   "outputs": [
    {
     "name": "stdout",
     "output_type": "stream",
     "text": [
      "VN =  ['S', 'A', 'B', 'C', 'E', 'Z', 'Y', 'X', 'W']\n",
      "VT =  ['a', 'b']\n",
      "P =  {'A': ['AS', 'WC', 'YA', 'b', 'a', 'ZS', 'XC', 'BC'], 'S': ['AS', 'WC', 'YA', 'b', 'YB', 'a', 'AC', 'XC', 'ZS', 'BC'], 'C': ['BA'], 'B': ['b', 'YA'], 'Z': 'AC', 'Y': 'a', 'X': 'AS', 'W': 'ZS'}\n"
     ]
    }
   ],
   "source": [
    "chomsky = Chomsky(VN, VT, P, \"S\").transform()\n",
    "print(\"VN = \", chomsky[0])\n",
    "print(\"VT = \", chomsky[1])\n",
    "print(\"P = \", chomsky[2])"
   ]
  },
  {
   "cell_type": "markdown",
   "id": "9b5d2e27",
   "metadata": {},
   "source": [
    "## Lab 5"
   ]
  },
  {
   "cell_type": "markdown",
   "id": "7ee9b918",
   "metadata": {},
   "source": [
    "#### Parser"
   ]
  },
  {
   "cell_type": "code",
   "execution_count": 13,
   "id": "4f9c300e",
   "metadata": {},
   "outputs": [],
   "source": [
    "code_test2 = '''SELECT name, age, address FROM customers WHERE age > 25 ORDER_BY name;'''\n",
    "\n",
    "lexer = Lexer(code_test2)\n",
    "tokens = lexer.tokenize()\n",
    "parser = Parser(tokens)\n",
    "parse_tree = parser.parse()"
   ]
  },
  {
   "cell_type": "code",
   "execution_count": 14,
   "id": "21442ec4",
   "metadata": {},
   "outputs": [
    {
     "name": "stdout",
     "output_type": "stream",
     "text": [
      "SELECT_STATEMENT\n",
      "\tSELECT: SELECT\n",
      "\tCOLUMN_LIST\n",
      "\t\tID: name\n",
      "\t\tID: age\n",
      "\t\tID: address\n",
      "\tFROM: FROM\n",
      "\tID: customers\n",
      "\tWHERE_CLAUSE\n",
      "\t\tWHERE: WHERE\n",
      "\t\tEXPRESSION\n",
      "\t\t\tID: age\n",
      "\t\t\tCOMPARATOR: >\n",
      "\t\t\tNUMBER: 25\n",
      "\tORDER_BY_CLAUSE\n",
      "\t\tORDER_BY: ORDER_BY\n",
      "\t\tID: name\n",
      "\tEND: ;\n",
      "\n"
     ]
    }
   ],
   "source": [
    "print(parse_tree.print_tree())"
   ]
  },
  {
   "cell_type": "code",
   "execution_count": null,
   "id": "6091c0fc",
   "metadata": {},
   "outputs": [],
   "source": []
  }
 ],
 "metadata": {
  "kernelspec": {
   "display_name": "Python 3.8.8 ('base')",
   "language": "python",
   "name": "python3"
  },
  "language_info": {
   "codemirror_mode": {
    "name": "ipython",
    "version": 3
   },
   "file_extension": ".py",
   "mimetype": "text/x-python",
   "name": "python",
   "nbconvert_exporter": "python",
   "pygments_lexer": "ipython3",
   "version": "3.8.8"
  },
  "vscode": {
   "interpreter": {
    "hash": "08bd7763d8e8dc243d939d064df825fda2baa8234cb03b45306b02021c9614f6"
   }
  }
 },
 "nbformat": 4,
 "nbformat_minor": 5
}
